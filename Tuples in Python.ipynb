{
 "cells": [
  {
   "cell_type": "markdown",
   "id": "26842ce7",
   "metadata": {},
   "source": [
    "# Tuples in Python"
   ]
  },
  {
   "cell_type": "markdown",
   "id": "e993198f",
   "metadata": {},
   "source": [
    "## Introduction to Tuples"
   ]
  },
  {
   "cell_type": "markdown",
   "id": "3e6726cd",
   "metadata": {},
   "source": [
    "### A tuple in Python is a collection of items, similar to a list. However, unlike lists, tuples are immutable, meaning once they are created, they cannot be changed. Tuples are often used for grouping related data when you don’t want the data to be modified."
   ]
  },
  {
   "cell_type": "markdown",
   "id": "1bd09163",
   "metadata": {},
   "source": [
    "## Key Characteristics of Tuples:\n",
    "### 1. Immutable: The elements of a tuple cannot be changed after the tuple is created.\n",
    "### 2. Ordered: Like lists, tuples maintain the order of elements.\n",
    "### 3. Indexed: You can access individual elements using an index (starting from 0).\n",
    "### 4. Heterogeneous: Tuples can hold elements of different data types (e.g., integers, strings, other tuples)."
   ]
  },
  {
   "cell_type": "code",
   "execution_count": 5,
   "id": "6944dbae",
   "metadata": {},
   "outputs": [],
   "source": [
    "academic_tuple = ('name', 'father name', 'reg number', 'CNIC number', 'CGPA')"
   ]
  },
  {
   "cell_type": "markdown",
   "id": "d26fcf71",
   "metadata": {},
   "source": [
    "### If a tuple contains only one item, you need to include a trailing comma:"
   ]
  },
  {
   "cell_type": "code",
   "execution_count": 9,
   "id": "565f9729",
   "metadata": {},
   "outputs": [],
   "source": [
    "Mr_A_registration = ('FA24-BBD-xxx',)"
   ]
  },
  {
   "cell_type": "code",
   "execution_count": 14,
   "id": "3294aa8a",
   "metadata": {},
   "outputs": [],
   "source": [
    "# A tuple of integers\n",
    "numbers_tuple = (1, 2, 3, 4)\n",
    "\n",
    "# A tuple of strings\n",
    "fruits_tuple = ('apple', 'banana', 'cherry')\n",
    "\n",
    "# A mixed tuple\n",
    "mixed_tuple = (1, 'apple', 3.14, True)\n",
    "\n",
    "# A tuple with a single item\n",
    "single_item_tuple = (5,)"
   ]
  },
  {
   "cell_type": "markdown",
   "id": "d44f6796",
   "metadata": {},
   "source": [
    "### Accessing Tuple Elements\n",
    "#### You can access elements in a tuple using indexing, just like with lists."
   ]
  },
  {
   "cell_type": "code",
   "execution_count": 15,
   "id": "67f4c3c4",
   "metadata": {},
   "outputs": [
    {
     "name": "stdout",
     "output_type": "stream",
     "text": [
      "apple\n",
      "banana\n"
     ]
    }
   ],
   "source": [
    "fruits = ('apple', 'banana', 'cherry')\n",
    "print(fruits_tuple[0])  # Output: apple\n",
    "print(fruits_tuple[1])  # Output: banana"
   ]
  },
  {
   "cell_type": "markdown",
   "id": "55e27118",
   "metadata": {},
   "source": [
    "### Negative Indexing:"
   ]
  },
  {
   "cell_type": "code",
   "execution_count": 16,
   "id": "9c089e86",
   "metadata": {},
   "outputs": [
    {
     "name": "stdout",
     "output_type": "stream",
     "text": [
      "cherry\n",
      "banana\n"
     ]
    }
   ],
   "source": [
    "print(fruits_tuple[-1])  # Output: cherry\n",
    "print(fruits_tuple[-2])  # Output: banana"
   ]
  },
  {
   "cell_type": "markdown",
   "id": "288951e2",
   "metadata": {},
   "source": [
    "### Immutability of Tuples"
   ]
  },
  {
   "cell_type": "markdown",
   "id": "8572eef5",
   "metadata": {},
   "source": [
    "#### Once a tuple is created, you cannot modify its elements. This immutability provides a sense of data security, especially when the data should not change throughout the program."
   ]
  },
  {
   "cell_type": "code",
   "execution_count": 17,
   "id": "f3e4ef3f",
   "metadata": {},
   "outputs": [
    {
     "ename": "TypeError",
     "evalue": "'tuple' object does not support item assignment",
     "output_type": "error",
     "traceback": [
      "\u001b[0;31m---------------------------------------------------------------------------\u001b[0m",
      "\u001b[0;31mTypeError\u001b[0m                                 Traceback (most recent call last)",
      "Cell \u001b[0;32mIn[17], line 3\u001b[0m\n\u001b[1;32m      1\u001b[0m fruits_tuple \u001b[38;5;241m=\u001b[39m (\u001b[38;5;124m'\u001b[39m\u001b[38;5;124mapple\u001b[39m\u001b[38;5;124m'\u001b[39m, \u001b[38;5;124m'\u001b[39m\u001b[38;5;124mbanana\u001b[39m\u001b[38;5;124m'\u001b[39m, \u001b[38;5;124m'\u001b[39m\u001b[38;5;124mcherry\u001b[39m\u001b[38;5;124m'\u001b[39m)\n\u001b[1;32m      2\u001b[0m \u001b[38;5;66;03m# Trying to modify a tuple will raise an error\u001b[39;00m\n\u001b[0;32m----> 3\u001b[0m fruits_tuple[\u001b[38;5;241m0\u001b[39m] \u001b[38;5;241m=\u001b[39m \u001b[38;5;124m'\u001b[39m\u001b[38;5;124mblueberry\u001b[39m\u001b[38;5;124m'\u001b[39m\n",
      "\u001b[0;31mTypeError\u001b[0m: 'tuple' object does not support item assignment"
     ]
    }
   ],
   "source": [
    "fruits_tuple = ('apple', 'banana', 'cherry')\n",
    "# Trying to modify a tuple will raise an error\n",
    "fruits_tuple[0] = 'blueberry'  # TypeError: 'tuple' object does not support item assignment"
   ]
  },
  {
   "cell_type": "markdown",
   "id": "8b0e1158",
   "metadata": {},
   "source": [
    "### Tuple Operations\n",
    "#### Even though tuples are immutable, you can still perform some operations like concatenation and repetition.\n",
    "### Concatenation:"
   ]
  },
  {
   "cell_type": "code",
   "execution_count": 18,
   "id": "12fbf926",
   "metadata": {},
   "outputs": [
    {
     "name": "stdout",
     "output_type": "stream",
     "text": [
      "(1, 2, 3, 4, 5, 6)\n"
     ]
    }
   ],
   "source": [
    "tuple1 = (1, 2, 3)\n",
    "tuple2 = (4, 5, 6)\n",
    "combined_tuple = tuple1 + tuple2\n",
    "print(combined_tuple)  # Output: (1, 2, 3, 4, 5, 6)\n"
   ]
  },
  {
   "cell_type": "markdown",
   "id": "9e802b2b",
   "metadata": {},
   "source": [
    "### Repetition:"
   ]
  },
  {
   "cell_type": "code",
   "execution_count": 19,
   "id": "3640f840",
   "metadata": {},
   "outputs": [
    {
     "name": "stdout",
     "output_type": "stream",
     "text": [
      "('hello', 'hello', 'hello')\n"
     ]
    }
   ],
   "source": [
    "tuple1 = ('hello',)\n",
    "repeated_tuple = tuple1 * 3\n",
    "print(repeated_tuple)  # Output: ('hello', 'hello', 'hello')"
   ]
  },
  {
   "cell_type": "markdown",
   "id": "ac6574df",
   "metadata": {},
   "source": [
    "### Tuple Slicing\n",
    "#### You can extract a portion of a tuple using slicing. Slicing works similarly to lists."
   ]
  },
  {
   "cell_type": "code",
   "execution_count": 20,
   "id": "1abc91e9",
   "metadata": {},
   "outputs": [
    {
     "name": "stdout",
     "output_type": "stream",
     "text": [
      "(1, 2, 3)\n",
      "(0, 1, 2)\n",
      "(4, 5, 6)\n"
     ]
    }
   ],
   "source": [
    "numbers = (0, 1, 2, 3, 4, 5, 6)\n",
    "print(numbers[1:4])  # Output: (1, 2, 3)\n",
    "print(numbers[:3])   # Output: (0, 1, 2)\n",
    "print(numbers[4:])   # Output: (4, 5, 6)"
   ]
  },
  {
   "cell_type": "markdown",
   "id": "652fcc7c",
   "metadata": {},
   "source": [
    "### Tuple Methods\n",
    "##### Although tuples have fewer methods than lists due to their immutability, there are a few useful methods:\n",
    "#### count(item): Returns the number of times an item appears in the tuple."
   ]
  },
  {
   "cell_type": "code",
   "execution_count": 22,
   "id": "8cd2cb49",
   "metadata": {},
   "outputs": [
    {
     "name": "stdout",
     "output_type": "stream",
     "text": [
      "2\n"
     ]
    }
   ],
   "source": [
    "fruits_tuple = ('apple', 'banana', 'cherry', 'apple')\n",
    "print(fruits_tuple.count('apple'))  # Output: 2"
   ]
  },
  {
   "cell_type": "markdown",
   "id": "03af2f2c",
   "metadata": {},
   "source": [
    "### index(item): Returns the index of the first occurrence of the specified item."
   ]
  },
  {
   "cell_type": "code",
   "execution_count": 23,
   "id": "5959406e",
   "metadata": {},
   "outputs": [
    {
     "name": "stdout",
     "output_type": "stream",
     "text": [
      "2\n"
     ]
    }
   ],
   "source": [
    "print(fruits.index('cherry'))  # Output: 2"
   ]
  },
  {
   "cell_type": "code",
   "execution_count": 13,
   "id": "fb01b47b",
   "metadata": {},
   "outputs": [],
   "source": [
    "h=('hello',)"
   ]
  },
  {
   "cell_type": "code",
   "execution_count": 17,
   "id": "18fabc76-7719-4c7c-98e1-5d2d41a8bff9",
   "metadata": {},
   "outputs": [
    {
     "name": "stdout",
     "output_type": "stream",
     "text": [
      "('hello',)\n"
     ]
    }
   ],
   "source": [
    "print (h)"
   ]
  },
  {
   "cell_type": "code",
   "execution_count": 21,
   "id": "1ec5e960-d3b8-46b8-b610-28ceb91f7cb0",
   "metadata": {},
   "outputs": [
    {
     "ename": "AttributeError",
     "evalue": "'tuple' object has no attribute 'append'",
     "output_type": "error",
     "traceback": [
      "\u001b[1;31m---------------------------------------------------------------------------\u001b[0m",
      "\u001b[1;31mAttributeError\u001b[0m                            Traceback (most recent call last)",
      "Cell \u001b[1;32mIn[21], line 1\u001b[0m\n\u001b[1;32m----> 1\u001b[0m h\u001b[38;5;241m.\u001b[39mappend(abcd)\n",
      "\u001b[1;31mAttributeError\u001b[0m: 'tuple' object has no attribute 'append'"
     ]
    }
   ],
   "source": [
    "h.append(abcd)"
   ]
  },
  {
   "cell_type": "code",
   "execution_count": 23,
   "id": "1bbbf2f5-dc73-4ebd-9eb9-99010f8f3f5f",
   "metadata": {},
   "outputs": [
    {
     "name": "stdout",
     "output_type": "stream",
     "text": [
      "('tu deikh tu', 'gallan goodiyan', 'yamla bnjawe', 'betabi', 'hello', 'hello', 'yellow', 'yellow')\n"
     ]
    }
   ],
   "source": [
    "songs= ( 'tu deikh tu' , 'gallan goodiyan' , 'yamla bnjawe' , 'betabi' , 'hello' , 'hello' , 'yellow' ,'yellow')\n",
    "print (songs)"
   ]
  },
  {
   "cell_type": "code",
   "execution_count": 25,
   "id": "ed9ad71d-0d1a-427b-9a3e-38e49c944268",
   "metadata": {},
   "outputs": [
    {
     "name": "stdout",
     "output_type": "stream",
     "text": [
      "('hello', 'tu deikh tu', 'gallan goodiyan', 'yamla bnjawe', 'betabi', 'hello', 'hello', 'yellow', 'yellow')\n"
     ]
    }
   ],
   "source": [
    "print (h+songs)"
   ]
  },
  {
   "cell_type": "code",
   "execution_count": 27,
   "id": "803ddf02-e46a-4c68-b462-bf21328a2ee4",
   "metadata": {},
   "outputs": [
    {
     "name": "stdout",
     "output_type": "stream",
     "text": [
      "('hello', 'tu deikh tu', 'gallan goodiyan', 'yamla bnjawe', 'betabi', 'hello', 'hello', 'yellow', 'yellow', 'tu deikh tu', 'gallan goodiyan', 'yamla bnjawe', 'betabi', 'hello', 'hello', 'yellow', 'yellow')\n"
     ]
    }
   ],
   "source": [
    "print (h+songs*2)"
   ]
  },
  {
   "cell_type": "code",
   "execution_count": 33,
   "id": "d9bfc70f-360e-44ce-8ced-912ed795fffb",
   "metadata": {},
   "outputs": [
    {
     "data": {
      "text/plain": [
       "7"
      ]
     },
     "execution_count": 33,
     "metadata": {},
     "output_type": "execute_result"
    }
   ],
   "source": [
    "(h+songs*2).index(\"yellow\")"
   ]
  },
  {
   "cell_type": "code",
   "execution_count": 35,
   "id": "46fde12c-0d47-417e-af80-7655dafbc4ff",
   "metadata": {},
   "outputs": [
    {
     "data": {
      "text/plain": [
       "2"
      ]
     },
     "execution_count": 35,
     "metadata": {},
     "output_type": "execute_result"
    }
   ],
   "source": [
    "songs.count(\"hello\")"
   ]
  },
  {
   "cell_type": "code",
   "execution_count": 37,
   "id": "1705cb22-dc7c-4892-ba6d-23e8ef928698",
   "metadata": {},
   "outputs": [
    {
     "name": "stdout",
     "output_type": "stream",
     "text": [
      "('gallan goodiyan', 'yamla bnjawe', 'betabi')\n"
     ]
    }
   ],
   "source": [
    "print (songs[1:4])"
   ]
  },
  {
   "cell_type": "code",
   "execution_count": null,
   "id": "62788004-06c2-4c9a-b23d-d2a0d8c33b17",
   "metadata": {},
   "outputs": [],
   "source": []
  }
 ],
 "metadata": {
  "kernelspec": {
   "display_name": "Python 3 (ipykernel)",
   "language": "python",
   "name": "python3"
  },
  "language_info": {
   "codemirror_mode": {
    "name": "ipython",
    "version": 3
   },
   "file_extension": ".py",
   "mimetype": "text/x-python",
   "name": "python",
   "nbconvert_exporter": "python",
   "pygments_lexer": "ipython3",
   "version": "3.12.4"
  }
 },
 "nbformat": 4,
 "nbformat_minor": 5
}
