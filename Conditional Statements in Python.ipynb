{
 "cells": [
  {
   "cell_type": "markdown",
   "id": "f6f00809",
   "metadata": {},
   "source": [
    "## Conditional Statements in Python"
   ]
  },
  {
   "cell_type": "markdown",
   "id": "00fb62b4",
   "metadata": {},
   "source": [
    "### Objective:\n",
    "#### By the end of this lecture, you will:\n",
    "##### 1. Understand the concept of conditional statements.\n",
    "##### 2. Learn to use if, else, and elif in Python.\n",
    "##### 3. Apply nested and chained conditions effectively.\n",
    "##### 4. Practice writing Python code to solve decision-making problems."
   ]
  },
  {
   "cell_type": "markdown",
   "id": "739cd0bb",
   "metadata": {},
   "source": [
    "### 1. What are Conditional Statements?\n",
    "### Conditional statements allow a program to make decisions and execute certain code based on whether a condition is True or False.\n",
    "Python supports the following conditional statements:\n",
    "if statement\n",
    "else statement\n",
    "elif statement (else-if)"
   ]
  },
  {
   "cell_type": "markdown",
   "id": "458e83e8",
   "metadata": {},
   "source": [
    "### 1. What are Conditional Statements?\n",
    "#### Conditional statements allow a program to make decisions and execute certain code based on whether a condition is True or False.\n",
    "#### Python supports the following conditional statements:\n",
    "#### if statement\n",
    "#### else statement\n",
    "#### elif statement (else-if)"
   ]
  },
  {
   "cell_type": "markdown",
   "id": "c6734693",
   "metadata": {},
   "source": [
    "### Example:"
   ]
  },
  {
   "cell_type": "code",
   "execution_count": 1,
   "id": "ea67bff1",
   "metadata": {},
   "outputs": [
    {
     "name": "stdout",
     "output_type": "stream",
     "text": [
      "You are eligible to vote!\n"
     ]
    }
   ],
   "source": [
    "age = 18\n",
    "if age >= 18:\n",
    "    print(\"You are eligible to vote!\")"
   ]
  },
  {
   "cell_type": "markdown",
   "id": "73eb887d",
   "metadata": {},
   "source": [
    "### 2. The if Statement\n",
    "#### The if statement checks a condition.\n",
    "#### If the condition is True, the code block under it will run."
   ]
  },
  {
   "cell_type": "markdown",
   "id": "2055d944",
   "metadata": {},
   "source": [
    "### Syntax"
   ]
  },
  {
   "cell_type": "code",
   "execution_count": null,
   "id": "a158e25a",
   "metadata": {},
   "outputs": [],
   "source": [
    "if condition:\n",
    "    # Code to execute if the condition is True"
   ]
  },
  {
   "cell_type": "markdown",
   "id": "71ba29d1",
   "metadata": {},
   "source": [
    "### Example:"
   ]
  },
  {
   "cell_type": "code",
   "execution_count": 3,
   "id": "21e8b242",
   "metadata": {},
   "outputs": [
    {
     "name": "stdout",
     "output_type": "stream",
     "text": [
      "It's a hot day!\n"
     ]
    }
   ],
   "source": [
    "temperature = 30\n",
    "if temperature > 25:\n",
    "    print(\"It's a hot day!\")"
   ]
  },
  {
   "cell_type": "markdown",
   "id": "cd000a18",
   "metadata": {},
   "source": [
    "### 3. The else Statement\n",
    "#### Used to run a block of code if the condition in the if statement is False."
   ]
  },
  {
   "cell_type": "markdown",
   "id": "757ba6f2",
   "metadata": {},
   "source": [
    "### Syntax:"
   ]
  },
  {
   "cell_type": "code",
   "execution_count": 4,
   "id": "7dbda21d",
   "metadata": {},
   "outputs": [
    {
     "ename": "IndentationError",
     "evalue": "expected an indented block after 'if' statement on line 1 (1221847739.py, line 3)",
     "output_type": "error",
     "traceback": [
      "\u001b[0;36m  Cell \u001b[0;32mIn[4], line 3\u001b[0;36m\u001b[0m\n\u001b[0;31m    else:\u001b[0m\n\u001b[0m    ^\u001b[0m\n\u001b[0;31mIndentationError\u001b[0m\u001b[0;31m:\u001b[0m expected an indented block after 'if' statement on line 1\n"
     ]
    }
   ],
   "source": [
    "if condition:\n",
    "    # Code if condition is True\n",
    "else:\n",
    "    # Code if condition is False"
   ]
  },
  {
   "cell_type": "markdown",
   "id": "8b570083",
   "metadata": {},
   "source": [
    "### Example:"
   ]
  },
  {
   "cell_type": "code",
   "execution_count": 5,
   "id": "09dc1da0",
   "metadata": {},
   "outputs": [
    {
     "name": "stdout",
     "output_type": "stream",
     "text": [
      "You failed.\n"
     ]
    }
   ],
   "source": [
    "marks = 45\n",
    "if marks >= 50:\n",
    "    print(\"You passed!\")\n",
    "else:\n",
    "    print(\"You failed.\")"
   ]
  },
  {
   "cell_type": "markdown",
   "id": "d9f30cb5",
   "metadata": {},
   "source": [
    "### 4. The elif Statement\n",
    "#### Stands for else if and is used when multiple conditions need to be checked in sequence."
   ]
  },
  {
   "cell_type": "markdown",
   "id": "d6efb688",
   "metadata": {},
   "source": [
    "### Syntax"
   ]
  },
  {
   "cell_type": "code",
   "execution_count": null,
   "id": "2dda37b2",
   "metadata": {},
   "outputs": [],
   "source": [
    "if condition1:\n",
    "    # Code if condition1 is True\n",
    "elif condition2:\n",
    "    # Code if condition2 is True\n",
    "else:\n",
    "    # Code if none of the conditions are True"
   ]
  },
  {
   "cell_type": "markdown",
   "id": "daa79f54",
   "metadata": {},
   "source": [
    "### Example:"
   ]
  },
  {
   "cell_type": "code",
   "execution_count": null,
   "id": "10420684",
   "metadata": {},
   "outputs": [],
   "source": [
    "score = 75\n",
    "if score >= 90:\n",
    "    print(\"Grade: A\")\n",
    "elif score >= 80:\n",
    "    print(\"Grade: B\")\n",
    "elif score >= 70:\n",
    "    print(\"Grade: C\")\n",
    "else:\n",
    "    print(\"Grade: F\")"
   ]
  },
  {
   "cell_type": "markdown",
   "id": "f3c1765d",
   "metadata": {},
   "source": [
    "### 5. Nested if Statements\n",
    "#### An if statement inside another if statement. Useful for complex decision-making."
   ]
  },
  {
   "cell_type": "markdown",
   "id": "3e8fea5f",
   "metadata": {},
   "source": [
    "### Example:"
   ]
  },
  {
   "cell_type": "code",
   "execution_count": 5,
   "id": "eb949a47",
   "metadata": {},
   "outputs": [
    {
     "name": "stdout",
     "output_type": "stream",
     "text": [
      "You are a minor.\n"
     ]
    }
   ],
   "source": [
    "age = 12\n",
    "gender = 'female'\n",
    "\n",
    "if age >= 18:\n",
    "    if gender == 'male':\n",
    "        print(\"You are an adult male.\")\n",
    "    else:\n",
    "        print(\"You are an adult female.\")\n",
    "else:\n",
    "    print(\"You are a minor.\")"
   ]
  },
  {
   "cell_type": "markdown",
   "id": "660515b0",
   "metadata": {},
   "source": [
    "### 6. Chained Conditions with and, or, and not\n",
    "### and: All conditions must be True.\n",
    "### or: At least one condition must be True.\n",
    "### not: Negates the condition.\n",
    "### Example 1 (using and):"
   ]
  },
  {
   "cell_type": "code",
   "execution_count": null,
   "id": "28ac9810",
   "metadata": {},
   "outputs": [],
   "source": [
    "age = 25\n",
    "income = 30000\n",
    "if age > 18 and income > 20000:\n",
    "    print(\"You are eligible for the loan.\")"
   ]
  },
  {
   "cell_type": "markdown",
   "id": "243dc749",
   "metadata": {},
   "source": [
    "### Example 2 (using or):"
   ]
  },
  {
   "cell_type": "code",
   "execution_count": null,
   "id": "6f3e66b8",
   "metadata": {},
   "outputs": [],
   "source": [
    "day = \"Saturday\"\n",
    "if day == \"Saturday\" or day == \"Sunday\":\n",
    "    print(\"It's the weekend!\")"
   ]
  },
  {
   "cell_type": "markdown",
   "id": "3daf0950",
   "metadata": {},
   "source": [
    "### Example 3 (using not):"
   ]
  },
  {
   "cell_type": "code",
   "execution_count": 33,
   "id": "c60266d4",
   "metadata": {},
   "outputs": [
    {
     "name": "stdout",
     "output_type": "stream",
     "text": [
      "welcome\n"
     ]
    }
   ],
   "source": [
    "logged_in = True\n",
    "if not logged_in:\n",
    "    print(\"Please log in.\")\n",
    "if logged_in:\n",
    "    print('welcome')"
   ]
  },
  {
   "cell_type": "markdown",
   "id": "5349600f",
   "metadata": {},
   "source": [
    "### 7. The pass Statement\n",
    "#### Used as a placeholder when the body of the conditional is empty.\n",
    "### Example:"
   ]
  },
  {
   "cell_type": "code",
   "execution_count": 6,
   "id": "9063f92d",
   "metadata": {},
   "outputs": [],
   "source": [
    "if True:\n",
    "    pass  # Placeholder to avoid syntax error"
   ]
  },
  {
   "cell_type": "markdown",
   "id": "9f1c4920",
   "metadata": {},
   "source": [
    "### 8. Common Mistakes with Conditional Statements\n",
    "#### Incorrect Indentation: All statements under an if block must have the same indentation.\n",
    "#### Using = instead of ==: = is assignment, while == checks equality.\n",
    "#### Forgetting to use elif: If multiple conditions are checked with only if, each is evaluated independently."
   ]
  },
  {
   "cell_type": "markdown",
   "id": "72f49119",
   "metadata": {},
   "source": [
    "### 9. Class Activity / Practice Problems\n",
    "#### Write a program to check if a number is positive, negative, or zero.\n",
    "#### Create a program to determine whether a given year is a leap year.\n",
    "#### Build a simple calculator that asks for two numbers and an operator (+, -, *, /) and prints the result."
   ]
  },
  {
   "cell_type": "markdown",
   "id": "9ddb89cb",
   "metadata": {},
   "source": [
    "### Write a Python program that accepts a student's marks and prints the appropriate grade based on the following criteria:\n",
    "#### A: 85 and above\n",
    "#### B: 70 to 84\n",
    "#### C: 50 to 69\n",
    "#### F: Below 50"
   ]
  },
  {
   "cell_type": "markdown",
   "id": "1ef6c2b0",
   "metadata": {},
   "source": [
    "### 10. Summary\n",
    "#### if is used for a single condition.\n",
    "#### else provides an alternative if the if condition is False.\n",
    "#### elif allows checking multiple conditions.\n",
    "#### Use logical operators to combine multiple conditions."
   ]
  },
  {
   "cell_type": "code",
   "execution_count": 51,
   "id": "a6e8d02c",
   "metadata": {},
   "outputs": [
    {
     "name": "stdin",
     "output_type": "stream",
     "text": [
      "a number -9\n"
     ]
    },
    {
     "name": "stdout",
     "output_type": "stream",
     "text": [
      "negative\n"
     ]
    }
   ],
   "source": [
    "x=int(input (\"a number\"))\n",
    "if x>0:\n",
    "    print (\"positive\")\n",
    "elif x<0:\n",
    "    print (\"negative\")\n",
    "elif x==0:\n",
    "    print (\"zero\")\n",
    "else:\n",
    "    pass"
   ]
  },
  {
   "cell_type": "code",
   "execution_count": 67,
   "id": "d22f63b7-6405-45f4-9d56-bdddbda8f626",
   "metadata": {},
   "outputs": [
    {
     "name": "stdin",
     "output_type": "stream",
     "text": [
      "a year 2024\n",
      "days of feb 28\n"
     ]
    },
    {
     "name": "stdout",
     "output_type": "stream",
     "text": [
      "the given year is not a leap year\n"
     ]
    }
   ],
   "source": [
    "x=int(input(\"a year\"))\n",
    "y= int(input(\"days of feb\"))\n",
    "if y==29:\n",
    "    print (\"the given year is leap year\")\n",
    "else:\n",
    "    print(\"the given year is not a leap year\")\n",
    "\n"
   ]
  },
  {
   "cell_type": "code",
   "execution_count": 81,
   "id": "c1aa0abe-f732-4f06-83c7-10a837e3732c",
   "metadata": {},
   "outputs": [
    {
     "name": "stdin",
     "output_type": "stream",
     "text": [
      "a number 7777777\n",
      "a number 888888888\n",
      "operation /\n"
     ]
    },
    {
     "name": "stdout",
     "output_type": "stream",
     "text": [
      "0.008749999133749999\n"
     ]
    }
   ],
   "source": [
    "x=int(input(\"a number\"))\n",
    "y=int(input(\"a number\"))\n",
    "op=(input(\"operation\"))\n",
    "if op==\"+\":\n",
    "    print(x+y)\n",
    "elif op==\"-\":\n",
    "    print(x-y)\n",
    "\n",
    "elif op==\"/\":\n",
    "    print (x/y)\n",
    "elif op==\"*\":\n",
    "    print (x*y)\n",
    "else:\n",
    "    print (\"invalid input\")\n",
    "    "
   ]
  },
  {
   "cell_type": "code",
   "execution_count": 109,
   "id": "eb472366-70b5-4493-9c6f-f4f270adca89",
   "metadata": {},
   "outputs": [
    {
     "name": "stdin",
     "output_type": "stream",
     "text": [
      "a number 88\n"
     ]
    },
    {
     "name": "stdout",
     "output_type": "stream",
     "text": [
      "A\n"
     ]
    }
   ],
   "source": [
    "x=int(input (\"a number\"))\n",
    "if x>=85:\n",
    "    print(\"A\")\n",
    "elif x<=84 and x>=70:\n",
    "    print (\"B\")\n",
    "elif x<=60 and x>=55:\n",
    "    print (\"c\")"
   ]
  },
  {
   "cell_type": "code",
   "execution_count": 87,
   "id": "0e97c2f7-c154-44ab-a92d-c0a7cb172140",
   "metadata": {},
   "outputs": [],
   "source": [
    "##Create a program that asks the user to enter a number and then prints whether the number is even or odd.\n"
   ]
  },
  {
   "cell_type": "code",
   "execution_count": 89,
   "id": "c06c1982-3541-4cea-b834-878e83b5436f",
   "metadata": {},
   "outputs": [
    {
     "name": "stdin",
     "output_type": "stream",
     "text": [
      "a number 36\n"
     ]
    },
    {
     "name": "stdout",
     "output_type": "stream",
     "text": [
      "the number is even\n"
     ]
    }
   ],
   "source": [
    "x=int(input(\"a number\"))\n",
    "if x%2==0:\n",
    "    print (\"the number is even\")\n",
    "elif x%2==1:\n",
    "    print (\"the number is odd\")\n",
    "elif x==1:\n",
    "    print (\"the number is odd\")\n",
    "else:pass\n",
    "\n"
   ]
  },
  {
   "cell_type": "code",
   "execution_count": 91,
   "id": "edbbfc4c-4a74-4c4b-a718-45235579f9d6",
   "metadata": {},
   "outputs": [
    {
     "name": "stdin",
     "output_type": "stream",
     "text": [
      "a number -9\n"
     ]
    },
    {
     "name": "stdout",
     "output_type": "stream",
     "text": [
      "the number is odd\n"
     ]
    }
   ],
   "source": [
    "x=int(input(\"a number\"))\n",
    "if x%2==0:\n",
    "    print (\"the number is even\")\n",
    "else:\n",
    "    print (\"the number is odd\")\n",
    "\n"
   ]
  },
  {
   "cell_type": "code",
   "execution_count": 93,
   "id": "e7c471d8-6c80-41c4-8fa5-7fe5633bf5c2",
   "metadata": {},
   "outputs": [],
   "source": [
    "##Write a program that takes a person’s age as input and classifies them into one of the following categories:\n",
    "#Child (0-12)\n",
    "#Teenager (13-19)\n",
    "#Adult (20-64)\n",
    "#Senior (65+)"
   ]
  },
  {
   "cell_type": "code",
   "execution_count": 107,
   "id": "8672e307-2f5d-47e0-a08c-8bc26dc23ee6",
   "metadata": {},
   "outputs": [
    {
     "name": "stdin",
     "output_type": "stream",
     "text": [
      "enter age 5\n"
     ]
    },
    {
     "name": "stdout",
     "output_type": "stream",
     "text": [
      "child\n"
     ]
    }
   ],
   "source": [
    "x=int(input(\"enter age\"))\n",
    "if x>=0 and x<=12:\n",
    "    print (\"child\")\n",
    "if x>=13 and x<=19:\n",
    "    print (\"teenager\")\n",
    "if x>=20 and x<=64:\n",
    "    print (\"adult\")\n",
    "if x>=65:\n",
    "    print (\"senior\")\n",
    "else:pass\n",
    "    "
   ]
  },
  {
   "cell_type": "code",
   "execution_count": 111,
   "id": "52e2649f-e904-49f6-a7bb-b109cf143d15",
   "metadata": {},
   "outputs": [
    {
     "ename": "SyntaxError",
     "evalue": "invalid syntax (151459405.py, line 1)",
     "output_type": "error",
     "traceback": [
      "\u001b[1;36m  Cell \u001b[1;32mIn[111], line 1\u001b[1;36m\u001b[0m\n\u001b[1;33m    Password Strength Checker:\u001b[0m\n\u001b[1;37m             ^\u001b[0m\n\u001b[1;31mSyntaxError\u001b[0m\u001b[1;31m:\u001b[0m invalid syntax\n"
     ]
    }
   ],
   "source": [
    "Password Strength Checker:\n",
    "Write a program that evaluates the strength of a password based on the following criteria:\n",
    "Length (at least 8 characters)\n",
    "Contains both uppercase and lowercase letters\n",
    "Includes at least one numerical digit\n",
    "Has at least one special character (e.g., @, #, $, etc.)"
   ]
  },
  {
   "cell_type": "code",
   "execution_count": 117,
   "id": "b12883f4-afc6-4baa-a783-fce9607a8428",
   "metadata": {},
   "outputs": [
    {
     "name": "stdin",
     "output_type": "stream",
     "text": [
      "Enter a password:  99\n"
     ]
    }
   ],
   "source": [
    "password = input(\"Enter a password: \")\n",
    "\n",
    "# Initialize criteria flags\n",
    "length_check = False\n",
    "uppercase_check = False\n",
    "lowercase_check = False\n",
    "digit_check = False\n",
    "special_char_check = False\n",
    "\n",
    "# Check each character in the password\n",
    "if len(password) >= 8:\n",
    "    length_check = True\n",
    "\n",
    "for char in password:\n",
    "    if char.isupper():\n",
    "        uppercase_check = True\n",
    "    elif char.islower():\n",
    "        lowercase_check = True\n",
    "    elif char.isdigit():\n",
    "        digit_check = True\n",
    "    elif char in \"@#$%^&+=\":\n",
    "        special_char_check = True\n",
    "\n",
    "# Evaluate strength\n",
    "if length_check and uppercase_check and lowercase_check and digit_check and special_char_check:\n",
    "    print(\"Strong password\")\n",
    "else:\n",
    "    \n"
   ]
  },
  {
   "cell_type": "code",
   "execution_count": 123,
   "id": "4fe6843f-21bc-4c86-a015-7e0f65852b04",
   "metadata": {},
   "outputs": [
    {
     "ename": "SyntaxError",
     "evalue": "invalid syntax (3280079188.py, line 7)",
     "output_type": "error",
     "traceback": [
      "\u001b[1;36m  Cell \u001b[1;32mIn[123], line 7\u001b[1;36m\u001b[0m\n\u001b[1;33m    length>=8:\u001b[0m\n\u001b[1;37m             ^\u001b[0m\n\u001b[1;31mSyntaxError\u001b[0m\u001b[1;31m:\u001b[0m invalid syntax\n"
     ]
    }
   ],
   "source": [
    "x=int(input(\"enter password\"))\n",
    "length==False\n",
    "uppercase==False \n",
    "lowercase==False \n",
    "digitalchecker==False\n",
    "specialcharachter = False\n",
    "length>=8:\n",
    "\n"
   ]
  },
  {
   "cell_type": "code",
   "execution_count": 11,
   "id": "028fd3af-7d14-4b1a-b2a1-22368bcb244b",
   "metadata": {},
   "outputs": [
    {
     "name": "stdin",
     "output_type": "stream",
     "text": [
      "Enter temperature in C 50\n"
     ]
    },
    {
     "name": "stdout",
     "output_type": "stream",
     "text": [
      "122.0\n"
     ]
    }
   ],
   "source": [
    "   x=int(input(\"Enter temperature in C\"))\n",
    "f=(9/5*x)+32\n",
    "print(f)"
   ]
  },
  {
   "cell_type": "code",
   "execution_count": 9,
   "id": "6087e22d-3bce-4c94-b3e4-74e1f83e25a4",
   "metadata": {},
   "outputs": [
    {
     "name": "stdin",
     "output_type": "stream",
     "text": [
      "Enter temperature in F 122\n"
     ]
    },
    {
     "name": "stdout",
     "output_type": "stream",
     "text": [
      "35.777777777777786\n"
     ]
    }
   ],
   "source": [
    "   x=int(input(\"Enter temperature in F\"))\n",
    "c=(5/9)*x-32\n",
    "print(c)"
   ]
  },
  {
   "cell_type": "code",
   "execution_count": null,
   "id": "2378f339-5f9c-4f22-b25a-d7ae8f983aa4",
   "metadata": {},
   "outputs": [],
   "source": [
    "x=int(input(\"age\"))\n",
    "y=float(input(\"height in feet\"))\n",
    "if x>=20 and y>=5.8:\n",
    "    print(you are eligible to join army'"
   ]
  }
 ],
 "metadata": {
  "kernelspec": {
   "display_name": "Python 3 (ipykernel)",
   "language": "python",
   "name": "python3"
  },
  "language_info": {
   "codemirror_mode": {
    "name": "ipython",
    "version": 3
   },
   "file_extension": ".py",
   "mimetype": "text/x-python",
   "name": "python",
   "nbconvert_exporter": "python",
   "pygments_lexer": "ipython3",
   "version": "3.12.4"
  }
 },
 "nbformat": 4,
 "nbformat_minor": 5
}
