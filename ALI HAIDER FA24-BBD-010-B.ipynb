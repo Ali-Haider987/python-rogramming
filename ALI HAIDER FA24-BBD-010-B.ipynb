{
 "cells": [
  {
   "cell_type": "code",
   "execution_count": 28,
   "id": "255ec7c1-0840-4826-9af7-d19e9f8a2835",
   "metadata": {},
   "outputs": [],
   "source": [
    "#QUESTION 1\n",
    "sales=[1200,1500,900,2000,1800,2500,1700,1600]"
   ]
  },
  {
   "cell_type": "code",
   "execution_count": 29,
   "id": "36866f85-8c3a-4ff0-a816-4326a3da233c",
   "metadata": {},
   "outputs": [
    {
     "name": "stdout",
     "output_type": "stream",
     "text": [
      "1200\n",
      "1600\n"
     ]
    }
   ],
   "source": [
    "print(sales[0])\n",
    "print (sales[7]) #for printing 1st and last sales figure using index"
   ]
  },
  {
   "cell_type": "code",
   "execution_count": 30,
   "id": "62314ef9-3b0e-4199-8b21-371de6c5fe60",
   "metadata": {},
   "outputs": [
    {
     "name": "stdout",
     "output_type": "stream",
     "text": [
      "[1200, 1500, 1000, 2000, 1800, 2500, 1700, 1600]\n"
     ]
    }
   ],
   "source": [
    "sales[2]=1000\n",
    "print (sales) #modifying the sales figure at index 2"
   ]
  },
  {
   "cell_type": "code",
   "execution_count": 31,
   "id": "a897cb06-aeef-4304-aef9-dd25709918c1",
   "metadata": {},
   "outputs": [
    {
     "name": "stdout",
     "output_type": "stream",
     "text": [
      "[1200]\n",
      "[1200, 1500]\n",
      "[1200, 1500, 1000]\n",
      "[1200, 1500, 1000, 2000]\n",
      "[1200, 1500, 1000, 2000, 1800]\n"
     ]
    }
   ],
   "source": [
    "print (sales [:1])\n",
    "print (sales[:2])\n",
    "print (sales [:3])\n",
    "print (sales[:4])\n",
    "print (sales[:5]) #slicing first five sales figure"
   ]
  },
  {
   "cell_type": "code",
   "execution_count": 32,
   "id": "d48ad732-7660-48c3-9473-c06b5b326a37",
   "metadata": {},
   "outputs": [
    {
     "name": "stdout",
     "output_type": "stream",
     "text": [
      "[1200, 1500, 1000, 2000, 1800, 2500, 1700, 1600, 2300]\n"
     ]
    }
   ],
   "source": [
    "sales.append(2300)\n",
    "print (sales) # the item in list appends by list.append(item)"
   ]
  },
  {
   "cell_type": "code",
   "execution_count": 33,
   "id": "fea4b8cb-efb6-4197-a6ec-a75bdc4f45c2",
   "metadata": {},
   "outputs": [
    {
     "name": "stdout",
     "output_type": "stream",
     "text": [
      "[2000, 1800, 2500, 2300]\n"
     ]
    }
   ],
   "source": [
    "new_sales=[2000,1800,2500,2300]\n",
    "print (new_sales) #new list that contains the sales above 1800"
   ]
  },
  {
   "cell_type": "code",
   "execution_count": 55,
   "id": "daf92f4b-4449-4172-b16a-f8a86cff63c9",
   "metadata": {},
   "outputs": [
    {
     "name": "stdin",
     "output_type": "stream",
     "text": [
      "category clothing\n",
      "price 120\n"
     ]
    },
    {
     "name": "stdout",
     "output_type": "stream",
     "text": [
      "108.0\n"
     ]
    }
   ],
   "source": [
    "#Question 2\n",
    "x=str(input(\"category\"))\n",
    "y=int(input(\"price\"))\n",
    "if x=='electronics' and y>500:\n",
    "    print (y-(y/15))\n",
    "elif x=='clothing' and y>100:\n",
    "    print(y-(y/10))\n",
    "else:\n",
    "    print(y)\n"
   ]
  },
  {
   "cell_type": "code",
   "execution_count": 62,
   "id": "fd1e56bc-0934-4eca-9a0d-3d4bc36de84b",
   "metadata": {},
   "outputs": [
    {
     "name": "stdin",
     "output_type": "stream",
     "text": [
      "category electronics\n",
      "price 666\n"
     ]
    },
    {
     "name": "stdout",
     "output_type": "stream",
     "text": [
      "621.6\n",
      "high valued item\n"
     ]
    }
   ],
   "source": [
    "#Question 2\n",
    "x=str(input(\"category\"))\n",
    "y=int(input(\"price\"))\n",
    "if x=='electronics' and y>500:\n",
    "    print (y-(y/15))\n",
    "    if y>300:\n",
    "        print(\"high valued item\")\n",
    "        if y<300:\n",
    "            print(\"low valued item\")\n",
    "elif x=='clothing' and y>100:\n",
    "    print(y-(y/10))\n",
    "else:\n",
    "    print(y)\n"
   ]
  },
  {
   "cell_type": "code",
   "execution_count": 11,
   "id": "9f3c17d7-82e9-491f-b9ae-eab603fee168",
   "metadata": {},
   "outputs": [
    {
     "name": "stdin",
     "output_type": "stream",
     "text": [
      "category electronics\n",
      "price 333\n",
      "totalprice 777\n"
     ]
    },
    {
     "name": "stdout",
     "output_type": "stream",
     "text": [
      "333\n",
      "False\n"
     ]
    }
   ],
   "source": [
    "#Question 2\n",
    "x=str(input(\"category\"))\n",
    "y=int(input(\"price\"))\n",
    "z=int(input(\"totalprice\"))\n",
    "if x=='electronics' and y>500:\n",
    "    print (y-(y/15))\n",
    "    print(\"price\")\n",
    "    print(z)\n",
    "elif x=='clothing' and y>100:\n",
    "    print(y-(y/10))\n",
    "    print(\"finalprice\"==y)\n",
    "    print(\"discountedprice\" ==y/10)\n",
    "else:\n",
    "    print(y)\n",
    "    print(\"totalprice\"==y)\n"
   ]
  },
  {
   "cell_type": "code",
   "execution_count": null,
   "id": "79e68a41-2fb4-4697-b813-a904f7ceb2d7",
   "metadata": {},
   "outputs": [],
   "source": []
  }
 ],
 "metadata": {
  "kernelspec": {
   "display_name": "Python 3 (ipykernel)",
   "language": "python",
   "name": "python3"
  },
  "language_info": {
   "codemirror_mode": {
    "name": "ipython",
    "version": 3
   },
   "file_extension": ".py",
   "mimetype": "text/x-python",
   "name": "python",
   "nbconvert_exporter": "python",
   "pygments_lexer": "ipython3",
   "version": "3.12.4"
  }
 },
 "nbformat": 4,
 "nbformat_minor": 5
}
